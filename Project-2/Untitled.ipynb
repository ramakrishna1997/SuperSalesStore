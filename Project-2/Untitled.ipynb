{
 "cells": [
  {
   "cell_type": "code",
   "execution_count": 1,
   "id": "ecf47ed8",
   "metadata": {},
   "outputs": [],
   "source": [
    "import qrcode"
   ]
  },
  {
   "cell_type": "code",
   "execution_count": 9,
   "id": "9017e79f",
   "metadata": {},
   "outputs": [],
   "source": [
    "data=\"C:/Users/Ramakrishna/Desktop/Project-2/SuperStore.pdf\""
   ]
  },
  {
   "cell_type": "code",
   "execution_count": 11,
   "id": "76907a5e",
   "metadata": {},
   "outputs": [],
   "source": [
    "qr=qrcode.QRCode( version=1,error_correction=0,box_size=10,border=4,image_factory=None,mask_pattern=None,)"
   ]
  },
  {
   "cell_type": "code",
   "execution_count": 12,
   "id": "ba931ffb",
   "metadata": {},
   "outputs": [],
   "source": [
    "qr.add_data(data)"
   ]
  },
  {
   "cell_type": "code",
   "execution_count": 13,
   "id": "55534020",
   "metadata": {},
   "outputs": [],
   "source": [
    "qr.make(fit=True)"
   ]
  },
  {
   "cell_type": "code",
   "execution_count": 14,
   "id": "fc937d19",
   "metadata": {},
   "outputs": [],
   "source": [
    "img=qr.make_image(fill_color=\"black\",back_color=\"white\")"
   ]
  },
  {
   "cell_type": "code",
   "execution_count": 15,
   "id": "e40260ec",
   "metadata": {},
   "outputs": [],
   "source": [
    "img.save(\"SuperStore.png\")"
   ]
  },
  {
   "cell_type": "code",
   "execution_count": 18,
   "id": "e05c53e9",
   "metadata": {},
   "outputs": [
    {
     "name": "stdout",
     "output_type": "stream",
     "text": [
      "Collecting MyQR\n",
      "  Using cached MyQR-2.3.1.zip (16 kB)\n",
      "  Preparing metadata (setup.py): started\n",
      "  Preparing metadata (setup.py): finished with status 'done'\n",
      "Requirement already satisfied: imageio>=1.5 in c:\\users\\ramakrishna\\anaconda3\\lib\\site-packages (from MyQR) (2.19.3)\n",
      "Requirement already satisfied: numpy>=1.11.1 in c:\\users\\ramakrishna\\anaconda3\\lib\\site-packages (from MyQR) (1.23.5)\n",
      "Requirement already satisfied: Pillow>=3.3.1 in c:\\users\\ramakrishna\\anaconda3\\lib\\site-packages (from MyQR) (9.3.0)\n",
      "Building wheels for collected packages: MyQR\n",
      "  Building wheel for MyQR (setup.py): started\n",
      "  Building wheel for MyQR (setup.py): finished with status 'done'\n",
      "  Created wheel for MyQR: filename=MyQR-2.3.1-py3-none-any.whl size=16690 sha256=c88a66d6a8fa8fba37de83304470cb0e255a4e4899fc41fdba99e2f605be869b\n",
      "  Stored in directory: c:\\users\\ramakrishna\\appdata\\local\\pip\\cache\\wheels\\b4\\e9\\db\\3e946eec9044375a9d334d525f43b459835989d0ef7ea44003\n",
      "Successfully built MyQR\n",
      "Installing collected packages: MyQR\n",
      "Successfully installed MyQR-2.3.1\n",
      "Note: you may need to restart the kernel to use updated packages.\n"
     ]
    }
   ],
   "source": [
    "pip install MyQR"
   ]
  },
  {
   "cell_type": "code",
   "execution_count": 1,
   "id": "699bd164",
   "metadata": {},
   "outputs": [],
   "source": [
    "import qrcode\n",
    "import pyshorteners\n",
    "\n",
    "# Define the Google Drive file URL\n",
    "drive_url = \"https://drive.google.com/file/d/1oJQOy84MAqPgbln0ObYVE1w5tKZuuwm2/view?usp=share_link\"\n",
    "\n",
    "# Shorten the URL using a URL shortener service\n",
    "s = pyshorteners.Shortener()\n",
    "short_url = s.tinyurl.short(drive_url)\n",
    "\n",
    "# Create a QR code object and encode the shortened URL into the QR code\n",
    "qr = qrcode.QRCode(\n",
    "    version=None,\n",
    "    error_correction=qrcode.constants.ERROR_CORRECT_L,\n",
    "    box_size=10,\n",
    "    border=4,\n",
    ")\n",
    "qr.add_data(short_url)\n",
    "qr.make(fit=True)\n",
    "\n",
    "# Create an image from the QR code\n",
    "img = qr.make_image(fill_color=\"black\", back_color=\"white\")\n",
    "\n",
    "# Save the image to a file\n",
    "img.save('qrcode.png')\n"
   ]
  },
  {
   "cell_type": "code",
   "execution_count": 27,
   "id": "0b168aa7",
   "metadata": {},
   "outputs": [
    {
     "name": "stdout",
     "output_type": "stream",
     "text": [
      "Collecting pyshorteners\n",
      "  Using cached pyshorteners-1.0.1.tar.gz (10.0 kB)\n",
      "  Preparing metadata (setup.py): started\n",
      "  Preparing metadata (setup.py): finished with status 'done'\n",
      "Requirement already satisfied: requests in c:\\users\\ramakrishna\\anaconda3\\lib\\site-packages (from pyshorteners) (2.28.1)\n",
      "Requirement already satisfied: certifi>=2017.4.17 in c:\\users\\ramakrishna\\anaconda3\\lib\\site-packages (from requests->pyshorteners) (2022.9.14)\n",
      "Requirement already satisfied: urllib3<1.27,>=1.21.1 in c:\\users\\ramakrishna\\anaconda3\\lib\\site-packages (from requests->pyshorteners) (1.26.11)\n",
      "Requirement already satisfied: idna<4,>=2.5 in c:\\users\\ramakrishna\\anaconda3\\lib\\site-packages (from requests->pyshorteners) (3.3)\n",
      "Requirement already satisfied: charset-normalizer<3,>=2 in c:\\users\\ramakrishna\\anaconda3\\lib\\site-packages (from requests->pyshorteners) (2.0.4)\n",
      "Building wheels for collected packages: pyshorteners\n",
      "  Building wheel for pyshorteners (setup.py): started\n",
      "  Building wheel for pyshorteners (setup.py): finished with status 'done'\n",
      "  Created wheel for pyshorteners: filename=pyshorteners-1.0.1-py3-none-any.whl size=17482 sha256=767c4a5d92ef7dc8d115f5c8acc828aaaaaddd8616e93e4a5656d520e4b32dd3\n",
      "  Stored in directory: c:\\users\\ramakrishna\\appdata\\local\\pip\\cache\\wheels\\51\\56\\d8\\765ad4c919190fbd24541487735547e6c665c9381d4d689ae8\n",
      "Successfully built pyshorteners\n",
      "Installing collected packages: pyshorteners\n",
      "Successfully installed pyshorteners-1.0.1\n",
      "Note: you may need to restart the kernel to use updated packages.\n"
     ]
    }
   ],
   "source": [
    "pip install pyshorteners"
   ]
  },
  {
   "cell_type": "code",
   "execution_count": 2,
   "id": "415b189c",
   "metadata": {},
   "outputs": [],
   "source": [
    "import qrcode"
   ]
  },
  {
   "cell_type": "code",
   "execution_count": 3,
   "id": "6dc19805",
   "metadata": {},
   "outputs": [],
   "source": [
    "import pyshorteners"
   ]
  },
  {
   "cell_type": "code",
   "execution_count": 4,
   "id": "0554739b",
   "metadata": {},
   "outputs": [],
   "source": [
    "url=\"https://github.com/Kanaries\""
   ]
  },
  {
   "cell_type": "code",
   "execution_count": 11,
   "id": "579a75f2",
   "metadata": {},
   "outputs": [],
   "source": [
    "s = pyshorteners.Shortener()\n",
    "short_url = s.tinyurl.short(url)"
   ]
  },
  {
   "cell_type": "code",
   "execution_count": 12,
   "id": "a631a2d1",
   "metadata": {},
   "outputs": [],
   "source": [
    "qr=qrcode.QRCode(version=1,\n",
    "    error_correction=qrcode.ERROR_CORRECT_L,\n",
    "    box_size=10,\n",
    "    border=4,\n",
    "    image_factory=None,\n",
    "    mask_pattern=None,)"
   ]
  },
  {
   "cell_type": "code",
   "execution_count": 13,
   "id": "5c1b9571",
   "metadata": {},
   "outputs": [],
   "source": [
    "qr.add_data(short_url)"
   ]
  },
  {
   "cell_type": "code",
   "execution_count": 14,
   "id": "df6c5e50",
   "metadata": {},
   "outputs": [],
   "source": [
    "qr.make(fit=True)"
   ]
  },
  {
   "cell_type": "code",
   "execution_count": 16,
   "id": "142ee133",
   "metadata": {},
   "outputs": [],
   "source": [
    "img=qr.make_image(fill_color=\"blue\",back_color=\"white\")"
   ]
  },
  {
   "cell_type": "code",
   "execution_count": 17,
   "id": "55c5ac09",
   "metadata": {},
   "outputs": [],
   "source": [
    "img.save(\"Git.png\")"
   ]
  },
  {
   "cell_type": "code",
   "execution_count": 19,
   "id": "a2dd6419",
   "metadata": {},
   "outputs": [],
   "source": [
    "from IPython.display import Image"
   ]
  },
  {
   "cell_type": "code",
   "execution_count": 20,
   "id": "468f1a91",
   "metadata": {},
   "outputs": [],
   "source": [
    "img=Image(filename=\"C:/Users/Ramakrishna/Desktop/Project-2/Git.png\")"
   ]
  },
  {
   "cell_type": "code",
   "execution_count": 21,
   "id": "1ab3e523",
   "metadata": {},
   "outputs": [
    {
     "data": {
      "image/png": "[encoded data removed]",
      "text/plain": [
       "<IPython.core.display.Image object>"
      ]
     },
     "execution_count": 21,
     "metadata": {},
     "output_type": "execute_result"
    }
   ],
   "source": [
    "img"
   ]
  },
  {
   "cell_type": "code",
   "execution_count": 23,
   "id": "b7d11f33",
   "metadata": {},
   "outputs": [],
   "source": [
    "import pandas as pd"
   ]
  },
  {
   "cell_type": "code",
   "execution_count": 29,
   "id": "c4aae7c4",
   "metadata": {},
   "outputs": [
    {
     "data": {
      "text/plain": [
       "'C:/Users/Ramakrishna/Desktop/Project-2/Git.png'"
      ]
     },
     "execution_count": 29,
     "metadata": {},
     "output_type": "execute_result"
    }
   ],
   "source": [
    "img.filename"
   ]
  },
  {
   "cell_type": "code",
   "execution_count": 32,
   "id": "a62be55b",
   "metadata": {},
   "outputs": [
    {
     "data": {
      "text/plain": [
       "False"
      ]
     },
     "execution_count": 32,
     "metadata": {},
     "output_type": "execute_result"
    }
   ],
   "source": [
    "img.retina"
   ]
  },
  {
   "cell_type": "code",
   "execution_count": 35,
   "id": "d4035a95",
   "metadata": {},
   "outputs": [
    {
     "data": {
      "text/plain": [
       "b'\\x89PNG\\r\\n\\x1a\\n\\x00\\x00\\x00\\rIHDR\\x00\\x00\\x01J\\x00\\x00\\x01J\\x08\\x02\\x00\\x00\\x00\\xf4K\\x81R\\x00\\x00\\x05\\xa2IDATx\\x9c\\xed\\xddAnk7\\x16EQ\\xbb\\x90\\xf9OY\\xe9VK\\x08\\xc2\\x10\\xf7r\\xff\\xb5\\xfa\\xb6dY\\x1b\\xec\\x1c\\xf0\\xfd~>\\x9f\\x1f\\xa0\\xe8\\x7f\\xd3o\\x00\\xb8E\\xde\\x90%o\\xc8\\x927d\\xc9\\x1b\\xb2\\xe4\\rY\\xf2\\x86,yC\\x96\\xbc!K\\xde\\x90%o\\xc8\\x927d\\xc9\\x1b\\xb2\\xe4\\rY\\xf2\\x86,yC\\x96\\xbc!K\\xde\\x90%o\\xc8\\x927d\\xc9\\x1b\\xb2\\xe4\\rY\\xf2\\x86,yC\\x96\\xbc!K\\xde\\x90%o\\xc8\\x927d\\xc9\\x1b\\xb2\\xe4\\rY\\xf2\\x86,yC\\x96\\xbc!K\\xde\\x90%o\\xc8\\x927d\\xc9\\x1b\\xb2\\xe4\\rY\\xf2\\x86\\xac\\xbf\\xa6^\\xf8\\xf7w\\xea\\x95o\\xf9|\\xfe\\xfd\\xcf\\xde\\xfb4\\xee\\xbd\\xab\\x93\\xdf|\\xf2\\xba/\\xba\\xf7Y}\\xe7\\xf4\\x86,yC\\x96\\xbc!K\\xde\\x90%o\\xc8\\x927d\\xc9\\x1b\\xb2\\xe4\\rY\\xf2\\x86\\xac\\xb1\\xd5\\xdawS+\\x9f\\xef^\\xdc\\x96M-\\xc0\\xee-\\xde\\xfe\\xb4\\xef\\xc6\\t\\xa77d\\xc9\\x1b\\xb2\\xe4\\rY\\xf2\\x86,yC\\x96\\xbc!K\\xde\\x90%o\\xc8\\x927d-]\\xad}\\xb7s=vb\\xe7_t\\xf2\\xae|\\x92\\x1b8\\xbd!K\\xde\\x90%o\\xc8\\x927d\\xc9\\x1b\\xb2\\xe4\\rY\\xf2\\x86,yC\\x96\\xbc!\\xeb\\xc9\\xd5\\xda\\x8bN\\xee\\x1e;YbM-\\xcf\\xa6\\x9e.\\xca\\xffszC\\x96\\xbc!K\\xde\\x90%o\\xc8\\x927d\\xc9\\x1b\\xb2\\xe4\\rY\\xf2\\x86,yC\\x96\\xd5\\xda\\xf3\\xee-\\xdex\\x9d\\xd3\\x1b\\xb2\\xe4\\rY\\xf2\\x86,yC\\x96\\xbc!K\\xde\\x90%o\\xc8\\x927d\\xc9\\x1b\\xb2\\x9e\\\\\\xad\\xbdxS\\xd7\\xd4\\xb6l\\xea\\xbe\\xb4\\xa9\\xff\\xd1\\x8b\\xdf\\x8d{\\x9c\\xde\\x90%o\\xc8\\x927d\\xc9\\x1b\\xb2\\xe4\\rY\\xf2\\x86,yC\\x96\\xbc!K\\xde\\x90\\xb5t\\xb5\\xd6\\xbb!l\\xe7\\x13B\\xefm\\xbc\\xee\\xbdn\\xef\\xbbq\\x8f\\xd3\\x1b\\xb2\\xe4\\rY\\xf2\\x86,yC\\x96\\xbc!K\\xde\\x90%o\\xc8\\x927d\\xc9\\x1b\\xb2~?.\\xa7Z`j[\\xf6\\xdd\\xce\\x1b\\xe0\\xf8\\xe7\\x9c\\xde\\x90%o\\xc8\\x927d\\xc9\\x1b\\xb2\\xe4\\rY\\xf2\\x86,yC\\x96\\xbc!K\\xde\\x905v\\xd7\\xda\\xc9\"j\\xea\\x86\\xb0\\x13SO\\xea\\x9c\\xfa\\xcdSv~\\xaf\\xa68\\xbd!K\\xde\\x90%o\\xc8\\x927d\\xc9\\x1b\\xb2\\xe4\\rY\\xf2\\x86,yC\\x96\\xbc!k\\xe9]k\\xf7\\xb6G/\\xae\\x9az\\xcf\\xc4\\xec=!teFNo\\xe8\\x927d\\xc9\\x1b\\xb2\\xe4\\rY\\xf2\\x86,yC\\x96\\xbc!K\\xde\\x90%o\\xc8Z\\xbaZ\\xbb\\xe7O\\xbbM\\xed\\xe4uO\\xec\\xfcZ\\x9d|\\xce/\\xee\\x1d\\x9d\\xde\\x90%o\\xc8\\x927d\\xc9\\x1b\\xb2\\xe4\\rY\\xf2\\x86,yC\\x96\\xbc!K\\xde\\x90\\xf5\\xc7=!\\xf4d\\x994\\xb5j\\xba\\xb7i\\xdb\\xf9i\\x9c\\xb8\\xb7\\x0f\\xdb\\xf9\\xf7~\\xe7\\xf4\\x86,yC\\x96\\xbc!K\\xde\\x90%o\\xc8\\x927d\\xc9\\x1b\\xb2\\xe4\\rY\\xf2\\x86\\xac\\xb1\\xd5\\xda\\x89\\xde\\x8a\\xebd\\xf3\\xf4\\xe2\\x1d`;Wz=No\\xc8\\x927d\\xc9\\x1b\\xb2\\xe4\\rY\\xf2\\x86,yC\\x96\\xbc!K\\xde\\x90%o\\xc8zr\\xb56u\\xeb\\xd5\\x8b\\x9b\\xa7\\xde\\xd3Ew>Mu\\xe7w\\xc3\\xe9\\rY\\xf2\\x86,yC\\x96\\xbc!K\\xde\\x90%o\\xc8\\x927d\\xc9\\x1b\\xb2\\xe4\\rYKWk/\\xee\\x96\\xee9\\xf9\\x8bv>\\xb7\\xf4\\xde\\x7fp\\xea\\xe6\\xb9\\x9d\\x9b6\\xa77d\\xc9\\x1b\\xb2\\xe4\\rY\\xf2\\x86,yC\\x96\\xbc!K\\xde\\x90%o\\xc8\\x927d-]\\xad\\x9d\\xb8\\xb7[\\x9aZS\\x9d\\xfc\\xe6\\xa9\\xf7<\\xb5\\xe2\\xba\\xf7\\x9c\\xd6\\xa9\\x1b\\xfeN8\\xbd!K\\xde\\x90%o\\xc8\\x927d\\xc9\\x1b\\xb2\\xe4\\rY\\xf2\\x86,yC\\x96\\xbc!\\xeb\\xc9\\xd5\\xda\\xd4\\x1d`\\xdf\\x9d,\\xb1v\\xfeE\\xf7\\xec\\xdc\\xf0M\\xfd\\xf7\\xefqzC\\x96\\xbc!K\\xde\\x90%o\\xc8\\x927d\\xc9\\x1b\\xb2\\xe4\\rY\\xf2\\x86,yC\\xd6\\xefg\\xe7\\xdc&g\\xe7\\xd3E{\\x1b\\xaf\\x9dO\\xea\\x9c\\xe2\\xf4\\x86,yC\\x96\\xbc!K\\xde\\x90%o\\xc8\\x927d\\xc9\\x1b\\xb2\\xe4\\rY\\xf2\\x86\\xac\\xb1\\xbb\\xd6v\\xde\\x01vb\\xe7\"j\\xea)\\x9f/>]\\xf4\\xc4\\xce\\xf7\\xec\\xf4\\x86,yC\\x96\\xbc!K\\xde\\x90%o\\xc8\\x927d\\xc9\\x1b\\xb2\\xe4\\rY\\xf2\\x86\\xac\\xa5O\\x08}q\\x99t\\xcf\\xce;\\xcf\\xee}\\x1a;\\xff\\xfb/rzC\\x96\\xbc!K\\xde\\x90%o\\xc8\\x927d\\xc9\\x1b\\xb2\\xe4\\rY\\xf2\\x86,yC\\xd6\\xd2\\xd5\\xdaw/\\xee\\xa5\\xee\\xed\\xc3N6mS;\\xbc\\x9d7\\xed\\xed|\\xe6\\xe9\\t\\xa77d\\xc9\\x1b\\xb2\\xe4\\rY\\xf2\\x86,yC\\x96\\xbc!K\\xde\\x90%o\\xc8\\x927d=\\xb9Z\\xeb\\xd9\\xf9<\\xcd\\x9d\\xdb\\xb2\\xa9e\\xe1\\xc9\\xfe\\xcf\\x13B\\x81\\xff\\x98\\xbc!K\\xde\\x90%o\\xc8\\x927d\\xc9\\x1b\\xb2\\xe4\\rY\\xf2\\x86,yC\\x96\\xd5\\xda\\x03\\xa66O\\xf7^wj\\xe3u\\xef6\\xb5\\x9d\\x0b?\\xa77d\\xc9\\x1b\\xb2\\xe4\\rY\\xf2\\x86,yC\\x96\\xbc!K\\xde\\x90%o\\xc8\\x927d=\\xb9Z\\xdb\\xf94\\xc6\\xefv\\xee\\xb4\\xa6\\x96XS7\\xc0\\xbd\\xf8\\xcd9\\xe1\\xf4\\x86,yC\\x96\\xbc!K\\xde\\x90%o\\xc8\\x927d\\xc9\\x1b\\xb2\\xe4\\rY\\xf2\\x86\\xac\\xa5\\xab\\xb5\\x9d7WM\\x99\\xdaiMm\\xcb\\xa6\\x9ey\\xda\\xdb\\xb49\\xbd!K\\xde\\x90%o\\xc8\\x927d\\xc9\\x1b\\xb2\\xe4\\rY\\xf2\\x86,yC\\x96\\xbc!\\xeb\\xf7\\xd3\\x9b\\xea\\x00???No\\x08\\x937d\\xc9\\x1b\\xb2\\xe4\\rY\\xf2\\x86,yC\\x96\\xbc!K\\xde\\x90%o\\xc8\\x927d\\xc9\\x1b\\xb2\\xe4\\rY\\xf2\\x86,yC\\x96\\xbc!K\\xde\\x90%o\\xc8\\x927d\\xc9\\x1b\\xb2\\xe4\\rY\\xf2\\x86,yC\\x96\\xbc!K\\xde\\x90%o\\xc8\\x927d\\xc9\\x1b\\xb2\\xe4\\rY\\xf2\\x86,yC\\x96\\xbc!K\\xde\\x90%o\\xc8\\x927d\\xc9\\x1b\\xb2\\xe4\\rY\\xf2\\x86,yC\\x96\\xbc!\\xebo|Q\\xfe\\xa7i\\x8e\\x1a\\xe3\\x00\\x00\\x00\\x00IEND\\xaeB`\\x82'"
      ]
     },
     "execution_count": 35,
     "metadata": {},
     "output_type": "execute_result"
    }
   ],
   "source": [
    "img.data"
   ]
  },
  {
   "cell_type": "code",
   "execution_count": 37,
   "id": "1a172a2c",
   "metadata": {},
   "outputs": [
    {
     "data": {
      "text/plain": [
       "{}"
      ]
     },
     "execution_count": 37,
     "metadata": {},
     "output_type": "execute_result"
    }
   ],
   "source": [
    "img.metadata"
   ]
  },
  {
   "cell_type": "code",
   "execution_count": 38,
   "id": "4ad09b86",
   "metadata": {},
   "outputs": [
    {
     "data": {
      "text/plain": [
       "<bound method Image.reload of <IPython.core.display.Image object>>"
      ]
     },
     "execution_count": 38,
     "metadata": {},
     "output_type": "execute_result"
    }
   ],
   "source": [
    "img.reload"
   ]
  },
  {
   "cell_type": "code",
   "execution_count": 41,
   "id": "9193759d",
   "metadata": {},
   "outputs": [],
   "source": [
    "img.width"
   ]
  },
  {
   "cell_type": "code",
   "execution_count": null,
   "id": "84f9e157",
   "metadata": {},
   "outputs": [],
   "source": []
  }
 ],
 "metadata": {
  "kernelspec": {
   "display_name": "Python 3 (ipykernel)",
   "language": "python",
   "name": "python3"
  },
  "language_info": {
   "codemirror_mode": {
    "name": "ipython",
    "version": 3
   },
   "file_extension": ".py",
   "mimetype": "text/x-python",
   "name": "python",
   "nbconvert_exporter": "python",
   "pygments_lexer": "ipython3",
   "version": "3.9.13"
  }
 },
 "nbformat": 4,
 "nbformat_minor": 5
}
